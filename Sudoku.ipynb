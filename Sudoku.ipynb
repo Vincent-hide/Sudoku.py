{
 "cells": [
  {
   "cell_type": "code",
   "execution_count": 4,
   "metadata": {},
   "outputs": [],
   "source": [
    "import numpy as np"
   ]
  },
  {
   "cell_type": "code",
   "execution_count": 2,
   "metadata": {},
   "outputs": [],
   "source": [
    "grid = [[5,3,0,0,7,0,0,0,0],\n",
    "        [6,0,0,1,9,5,0,0,0],\n",
    "        [0,9,8,0,0,0,0,6,0],\n",
    "        [8,0,0,0,6,0,0,0,3],\n",
    "        [4,0,0,8,0,3,0,0,1],\n",
    "        [7,0,0,0,2,0,0,0,6],\n",
    "        [0,6,0,0,0,0,2,8,0],\n",
    "        [0,0,0,4,1,9,0,0,5],\n",
    "        [0,0,0,0,8,0,0,7,9]\n",
    "       ]"
   ]
  },
  {
   "cell_type": "code",
   "execution_count": 3,
   "metadata": {},
   "outputs": [
    {
     "data": {
      "text/plain": [
       "[[5, 3, 0, 0, 7, 0, 0, 0, 0],\n",
       " [6, 0, 0, 1, 9, 5, 0, 0, 0],\n",
       " [0, 9, 8, 0, 0, 0, 0, 6, 0],\n",
       " [8, 0, 0, 0, 6, 0, 0, 0, 3],\n",
       " [4, 0, 0, 8, 0, 3, 0, 0, 1],\n",
       " [7, 0, 0, 0, 2, 0, 0, 0, 6],\n",
       " [0, 6, 0, 0, 0, 0, 2, 8, 0],\n",
       " [0, 0, 0, 4, 1, 9, 0, 0, 5],\n",
       " [0, 0, 0, 0, 8, 0, 0, 7, 9]]"
      ]
     },
     "execution_count": 3,
     "metadata": {},
     "output_type": "execute_result"
    }
   ],
   "source": [
    "grid"
   ]
  },
  {
   "cell_type": "code",
   "execution_count": 5,
   "metadata": {},
   "outputs": [
    {
     "data": {
      "text/plain": [
       "matrix([[5, 3, 0, 0, 7, 0, 0, 0, 0],\n",
       "        [6, 0, 0, 1, 9, 5, 0, 0, 0],\n",
       "        [0, 9, 8, 0, 0, 0, 0, 6, 0],\n",
       "        [8, 0, 0, 0, 6, 0, 0, 0, 3],\n",
       "        [4, 0, 0, 8, 0, 3, 0, 0, 1],\n",
       "        [7, 0, 0, 0, 2, 0, 0, 0, 6],\n",
       "        [0, 6, 0, 0, 0, 0, 2, 8, 0],\n",
       "        [0, 0, 0, 4, 1, 9, 0, 0, 5],\n",
       "        [0, 0, 0, 0, 8, 0, 0, 7, 9]])"
      ]
     },
     "execution_count": 5,
     "metadata": {},
     "output_type": "execute_result"
    }
   ],
   "source": [
    "np.matrix(grid)"
   ]
  },
  {
   "cell_type": "code",
   "execution_count": null,
   "metadata": {},
   "outputs": [],
   "source": [
    "def possible(x, y, n):\n",
    "    global grid\n",
    "    \n",
    "    # check if n is taken in the same row or col\n",
    "    for i in range(0, 9):\n",
    "        if grid[x][i] == n:\n",
    "            return False\n",
    "    for i in range(0, 9):\n",
    "        if grid[i][y] == n:\n",
    "            return False\n",
    "\n",
    "    # check which block we are currenlt looking at\n",
    "    x0 = (x//3)*3\n",
    "    y0 = (y//3)*3\n",
    "\n",
    "    # check if n is in the block\n",
    "    for i in range(0, 3):\n",
    "        for j in range(0, 3):\n",
    "            if grid[x0+i][y0+j] == n:\n",
    "                return False\n",
    "    return True"
   ]
  },
  {
   "cell_type": "markdown",
   "metadata": {},
   "source": [
    "![possible function](possible.PNG)"
   ]
  },
  {
   "cell_type": "code",
   "execution_count": null,
   "metadata": {},
   "outputs": [],
   "source": [
    "def solve():\n",
    "    global grid\n",
    "    for x in range(9):\n",
    "        for y in range(9):\n",
    "            if grid[x][y] == 0:\n",
    "                for n in range(1,10):\n",
    "                    if possible(x, y, n):\n",
    "                        grid[x][y] = n\n",
    "                        solve()\n",
    "                        grid[x][y] = 0\n",
    "                return \n",
    "    print(np.matrix(grid))"
   ]
  },
  {
   "cell_type": "code",
   "execution_count": null,
   "metadata": {},
   "outputs": [],
   "source": [
    "solve()"
   ]
  },
  {
   "cell_type": "code",
   "execution_count": null,
   "metadata": {},
   "outputs": [],
   "source": []
  }
 ],
 "metadata": {
  "kernelspec": {
   "display_name": "Python 3",
   "language": "python",
   "name": "python3"
  },
  "language_info": {
   "codemirror_mode": {
    "name": "ipython",
    "version": 3
   },
   "file_extension": ".py",
   "mimetype": "text/x-python",
   "name": "python",
   "nbconvert_exporter": "python",
   "pygments_lexer": "ipython3",
   "version": "3.8.3"
  }
 },
 "nbformat": 4,
 "nbformat_minor": 4
}
